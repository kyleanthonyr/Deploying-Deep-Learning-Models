{
 "cells": [
  {
   "cell_type": "code",
   "execution_count": 2,
   "metadata": {},
   "outputs": [
    {
     "ename": "ImportError",
     "evalue": "cannot import name 'model_from_json' from 'keras' (/Users/kylerodriguez/miniconda3/envs/recommender/lib/python3.11/site-packages/keras/__init__.py)",
     "output_type": "error",
     "traceback": [
      "\u001b[0;31m---------------------------------------------------------------------------\u001b[0m",
      "\u001b[0;31mImportError\u001b[0m                               Traceback (most recent call last)",
      "\u001b[1;32m/Users/kylerodriguez/Desktop/Springboard Data Science Track/deployment/notebooks/load_model.ipynb Cell 1\u001b[0m line \u001b[0;36m3\n\u001b[1;32m      <a href='vscode-notebook-cell:/Users/kylerodriguez/Desktop/Springboard%20Data%20Science%20Track/deployment/notebooks/load_model.ipynb#W0sZmlsZQ%3D%3D?line=0'>1</a>\u001b[0m \u001b[39m# imports\u001b[39;00m\n\u001b[1;32m      <a href='vscode-notebook-cell:/Users/kylerodriguez/Desktop/Springboard%20Data%20Science%20Track/deployment/notebooks/load_model.ipynb#W0sZmlsZQ%3D%3D?line=1'>2</a>\u001b[0m \u001b[39mimport\u001b[39;00m \u001b[39mkeras\u001b[39;00m\n\u001b[0;32m----> <a href='vscode-notebook-cell:/Users/kylerodriguez/Desktop/Springboard%20Data%20Science%20Track/deployment/notebooks/load_model.ipynb#W0sZmlsZQ%3D%3D?line=2'>3</a>\u001b[0m \u001b[39mfrom\u001b[39;00m \u001b[39mkeras\u001b[39;00m \u001b[39mimport\u001b[39;00m model_from_json \n\u001b[1;32m      <a href='vscode-notebook-cell:/Users/kylerodriguez/Desktop/Springboard%20Data%20Science%20Track/deployment/notebooks/load_model.ipynb#W0sZmlsZQ%3D%3D?line=4'>5</a>\u001b[0m \u001b[39m# opening and store file in a variable\u001b[39;00m\n\u001b[1;32m      <a href='vscode-notebook-cell:/Users/kylerodriguez/Desktop/Springboard%20Data%20Science%20Track/deployment/notebooks/load_model.ipynb#W0sZmlsZQ%3D%3D?line=6'>7</a>\u001b[0m json_file \u001b[39m=\u001b[39m \u001b[39mopen\u001b[39m(\u001b[39m'\u001b[39m\u001b[39m../models/model.json\u001b[39m\u001b[39m'\u001b[39m,\u001b[39m'\u001b[39m\u001b[39mr\u001b[39m\u001b[39m'\u001b[39m)\n",
      "\u001b[0;31mImportError\u001b[0m: cannot import name 'model_from_json' from 'keras' (/Users/kylerodriguez/miniconda3/envs/recommender/lib/python3.11/site-packages/keras/__init__.py)"
     ]
    }
   ],
   "source": [
    "# imports\n",
    "import keras\n",
    "from keras import model_from_json \n",
    "\n",
    "# opening and store file in a variable\n",
    "\n",
    "json_file = open('../models/model.json','r')\n",
    "loaded_model_json = json_file.read()\n",
    "json_file.close()\n",
    "\n",
    "# use Keras model_from_json to make a loaded model\n",
    "loaded_model = model_from_json(loaded_model_json)\n",
    "\n",
    "# load weights into new model\n",
    "loaded_model.load_weights(\"../models/model.h5\")\n",
    "print(\"Loaded Model from disk\")\n",
    "\n",
    "# compile and evaluate loaded model\n",
    "loaded_model.compile(loss='categorical_crossentropy',optimizer='adam',metrics=['accuracy'])\n"
   ]
  },
  {
   "cell_type": "code",
   "execution_count": null,
   "metadata": {},
   "outputs": [],
   "source": []
  }
 ],
 "metadata": {
  "kernelspec": {
   "display_name": "recommender",
   "language": "python",
   "name": "python3"
  },
  "language_info": {
   "codemirror_mode": {
    "name": "ipython",
    "version": 3
   },
   "file_extension": ".py",
   "mimetype": "text/x-python",
   "name": "python",
   "nbconvert_exporter": "python",
   "pygments_lexer": "ipython3",
   "version": "3.11.5"
  }
 },
 "nbformat": 4,
 "nbformat_minor": 2
}
